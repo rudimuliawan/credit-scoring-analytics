{
 "cells": [
  {
   "cell_type": "code",
   "id": "initial_id",
   "metadata": {
    "collapsed": true,
    "ExecuteTime": {
     "end_time": "2025-05-12T12:38:38.522819Z",
     "start_time": "2025-05-12T12:38:38.518683Z"
    }
   },
   "source": [
    "import itertools\n",
    "\n",
    "import matplotlib.pyplot as plt\n",
    "import numpy as np\n",
    "import pandas as pd\n",
    "import seaborn\n",
    "\n",
    "import seaborn as sns"
   ],
   "outputs": [],
   "execution_count": 3
  },
  {
   "metadata": {
    "ExecuteTime": {
     "end_time": "2025-05-12T12:38:38.573974Z",
     "start_time": "2025-05-12T12:38:38.537548Z"
    }
   },
   "cell_type": "code",
   "source": [
    "data = pd.read_csv(\"credit-risk-dataset.csv\")\n",
    "data[\"loan_intent\"].unique()"
   ],
   "id": "b12f5b85a53f1ef9",
   "outputs": [
    {
     "data": {
      "text/plain": [
       "array(['PERSONAL', 'EDUCATION', 'MEDICAL', 'VENTURE', 'HOMEIMPROVEMENT',\n",
       "       'DEBTCONSOLIDATION'], dtype=object)"
      ]
     },
     "execution_count": 4,
     "metadata": {},
     "output_type": "execute_result"
    }
   ],
   "execution_count": 4
  },
  {
   "metadata": {
    "ExecuteTime": {
     "end_time": "2025-05-12T12:38:38.602439Z",
     "start_time": "2025-05-12T12:38:38.590380Z"
    }
   },
   "cell_type": "code",
   "source": "data.duplicated().sum()",
   "id": "3306df39f1568749",
   "outputs": [
    {
     "data": {
      "text/plain": [
       "np.int64(165)"
      ]
     },
     "execution_count": 5,
     "metadata": {},
     "output_type": "execute_result"
    }
   ],
   "execution_count": 5
  },
  {
   "metadata": {
    "ExecuteTime": {
     "end_time": "2025-05-12T12:38:38.620088Z",
     "start_time": "2025-05-12T12:38:38.614762Z"
    }
   },
   "cell_type": "code",
   "source": [
    "predictors = [\"person_age\", \"person_emp_length\", \"cb_person_default_on_file\", \"loan_status\"]\n",
    "data = data[predictors]"
   ],
   "id": "13b9a403ce65fcae",
   "outputs": [],
   "execution_count": 6
  },
  {
   "metadata": {
    "ExecuteTime": {
     "end_time": "2025-05-12T12:38:38.636443Z",
     "start_time": "2025-05-12T12:38:38.629737Z"
    }
   },
   "cell_type": "code",
   "source": [
    "response_variables = [\"loan_status\"]\n",
    "data[response_variables].value_counts(normalize=True)"
   ],
   "id": "d87c17d0580e9954",
   "outputs": [
    {
     "data": {
      "text/plain": [
       "loan_status\n",
       "0              0.781836\n",
       "1              0.218164\n",
       "Name: proportion, dtype: float64"
      ]
     },
     "execution_count": 7,
     "metadata": {},
     "output_type": "execute_result"
    }
   ],
   "execution_count": 7
  },
  {
   "metadata": {
    "ExecuteTime": {
     "end_time": "2025-05-12T12:38:38.674489Z",
     "start_time": "2025-05-12T12:38:38.671478Z"
    }
   },
   "cell_type": "code",
   "source": [
    "y = data[response_variables]\n",
    "X = data.drop(columns=response_variables, axis=1)"
   ],
   "id": "f11593a764ed05b1",
   "outputs": [],
   "execution_count": 8
  },
  {
   "metadata": {
    "ExecuteTime": {
     "end_time": "2025-05-12T12:38:38.954355Z",
     "start_time": "2025-05-12T12:38:38.725092Z"
    }
   },
   "cell_type": "code",
   "source": [
    "from sklearn.model_selection import train_test_split\n",
    "\n",
    "X_train, X_test, y_train, y_test = train_test_split(\n",
    "    X, y, stratify=y, test_size=0.3, random_state=42\n",
    ")"
   ],
   "id": "71aa39b5154e414f",
   "outputs": [],
   "execution_count": 9
  },
  {
   "metadata": {
    "ExecuteTime": {
     "end_time": "2025-05-12T12:38:39.063679Z",
     "start_time": "2025-05-12T12:38:39.059646Z"
    }
   },
   "cell_type": "code",
   "source": "y_test.value_counts(normalize=True)",
   "id": "65d930174a72d403",
   "outputs": [
    {
     "data": {
      "text/plain": [
       "loan_status\n",
       "0              0.78179\n",
       "1              0.21821\n",
       "Name: proportion, dtype: float64"
      ]
     },
     "execution_count": 10,
     "metadata": {},
     "output_type": "execute_result"
    }
   ],
   "execution_count": 10
  },
  {
   "metadata": {
    "ExecuteTime": {
     "end_time": "2025-05-12T12:38:39.123325Z",
     "start_time": "2025-05-12T12:38:39.116502Z"
    }
   },
   "cell_type": "code",
   "source": [
    "data_train = pd.concat([X_train, y_train], axis=1)\n",
    "\n",
    "# validata data_train\n",
    "print(f\"Shape {data_train.shape}\")\n",
    "data_train.head()"
   ],
   "id": "da539c619cc6e2f9",
   "outputs": [
    {
     "name": "stdout",
     "output_type": "stream",
     "text": [
      "Shape (22806, 4)\n"
     ]
    },
    {
     "data": {
      "text/plain": [
       "       person_age  person_emp_length cb_person_default_on_file  loan_status\n",
       "11491          26                1.0                         N            0\n",
       "3890           23                3.0                         N            0\n",
       "17344          24                1.0                         N            1\n",
       "13023          24                1.0                         N            0\n",
       "29565          42                4.0                         N            1"
      ],
      "text/html": [
       "<div>\n",
       "<style scoped>\n",
       "    .dataframe tbody tr th:only-of-type {\n",
       "        vertical-align: middle;\n",
       "    }\n",
       "\n",
       "    .dataframe tbody tr th {\n",
       "        vertical-align: top;\n",
       "    }\n",
       "\n",
       "    .dataframe thead th {\n",
       "        text-align: right;\n",
       "    }\n",
       "</style>\n",
       "<table border=\"1\" class=\"dataframe\">\n",
       "  <thead>\n",
       "    <tr style=\"text-align: right;\">\n",
       "      <th></th>\n",
       "      <th>person_age</th>\n",
       "      <th>person_emp_length</th>\n",
       "      <th>cb_person_default_on_file</th>\n",
       "      <th>loan_status</th>\n",
       "    </tr>\n",
       "  </thead>\n",
       "  <tbody>\n",
       "    <tr>\n",
       "      <th>11491</th>\n",
       "      <td>26</td>\n",
       "      <td>1.0</td>\n",
       "      <td>N</td>\n",
       "      <td>0</td>\n",
       "    </tr>\n",
       "    <tr>\n",
       "      <th>3890</th>\n",
       "      <td>23</td>\n",
       "      <td>3.0</td>\n",
       "      <td>N</td>\n",
       "      <td>0</td>\n",
       "    </tr>\n",
       "    <tr>\n",
       "      <th>17344</th>\n",
       "      <td>24</td>\n",
       "      <td>1.0</td>\n",
       "      <td>N</td>\n",
       "      <td>1</td>\n",
       "    </tr>\n",
       "    <tr>\n",
       "      <th>13023</th>\n",
       "      <td>24</td>\n",
       "      <td>1.0</td>\n",
       "      <td>N</td>\n",
       "      <td>0</td>\n",
       "    </tr>\n",
       "    <tr>\n",
       "      <th>29565</th>\n",
       "      <td>42</td>\n",
       "      <td>4.0</td>\n",
       "      <td>N</td>\n",
       "      <td>1</td>\n",
       "    </tr>\n",
       "  </tbody>\n",
       "</table>\n",
       "</div>"
      ]
     },
     "execution_count": 11,
     "metadata": {},
     "output_type": "execute_result"
    }
   ],
   "execution_count": 11
  },
  {
   "metadata": {
    "ExecuteTime": {
     "end_time": "2025-05-12T12:38:39.211211Z",
     "start_time": "2025-05-12T12:38:39.206022Z"
    }
   },
   "cell_type": "code",
   "source": "data_train.isna().sum()",
   "id": "7e599b9019007dc9",
   "outputs": [
    {
     "data": {
      "text/plain": [
       "person_age                     0\n",
       "person_emp_length            639\n",
       "cb_person_default_on_file      0\n",
       "loan_status                    0\n",
       "dtype: int64"
      ]
     },
     "execution_count": 12,
     "metadata": {},
     "output_type": "execute_result"
    }
   ],
   "execution_count": 12
  },
  {
   "metadata": {
    "ExecuteTime": {
     "end_time": "2025-05-12T12:38:39.330764Z",
     "start_time": "2025-05-12T12:38:39.323282Z"
    }
   },
   "cell_type": "code",
   "source": [
    "# Predictor : Person Age\n",
    "data_train[\"person_age\"].describe()"
   ],
   "id": "4a4141420c98db90",
   "outputs": [
    {
     "data": {
      "text/plain": [
       "count    22806.000000\n",
       "mean        27.722880\n",
       "std          6.336638\n",
       "min         20.000000\n",
       "25%         23.000000\n",
       "50%         26.000000\n",
       "75%         30.000000\n",
       "max        144.000000\n",
       "Name: person_age, dtype: float64"
      ]
     },
     "execution_count": 13,
     "metadata": {},
     "output_type": "execute_result"
    }
   ],
   "execution_count": 13
  },
  {
   "metadata": {
    "ExecuteTime": {
     "end_time": "2025-05-12T12:38:39.980511Z",
     "start_time": "2025-05-12T12:38:39.463805Z"
    }
   },
   "cell_type": "code",
   "source": [
    "seaborn.set_theme(style=\"whitegrid\")\n",
    "sns.histplot(data=data_train, x=\"person_age\", hue=\"loan_status\")"
   ],
   "id": "9caa21e55e9f3b0",
   "outputs": [
    {
     "data": {
      "text/plain": [
       "<Axes: xlabel='person_age', ylabel='Count'>"
      ]
     },
     "execution_count": 14,
     "metadata": {},
     "output_type": "execute_result"
    },
    {
     "data": {
      "text/plain": [
       "<Figure size 640x480 with 1 Axes>"
      ],
      "image/png": "[encoded data removed]"
     },
     "metadata": {},
     "output_type": "display_data"
    }
   ],
   "execution_count": 14
  },
  {
   "metadata": {
    "ExecuteTime": {
     "end_time": "2025-05-12T12:38:40.081759Z",
     "start_time": "2025-05-12T12:38:40.070279Z"
    }
   },
   "cell_type": "code",
   "source": "data_train[\"person_age\"].groupby(data_train[\"loan_status\"]).describe()",
   "id": "58f8d5542b3e7a7b",
   "outputs": [
    {
     "data": {
      "text/plain": [
       "               count       mean       std   min   25%   50%   75%    max\n",
       "loan_status                                                             \n",
       "0            17831.0  27.784981  6.337859  20.0  23.0  26.0  30.0  144.0\n",
       "1             4975.0  27.500302  6.327888  20.0  23.0  26.0  30.0   70.0"
      ],
      "text/html": [
       "<div>\n",
       "<style scoped>\n",
       "    .dataframe tbody tr th:only-of-type {\n",
       "        vertical-align: middle;\n",
       "    }\n",
       "\n",
       "    .dataframe tbody tr th {\n",
       "        vertical-align: top;\n",
       "    }\n",
       "\n",
       "    .dataframe thead th {\n",
       "        text-align: right;\n",
       "    }\n",
       "</style>\n",
       "<table border=\"1\" class=\"dataframe\">\n",
       "  <thead>\n",
       "    <tr style=\"text-align: right;\">\n",
       "      <th></th>\n",
       "      <th>count</th>\n",
       "      <th>mean</th>\n",
       "      <th>std</th>\n",
       "      <th>min</th>\n",
       "      <th>25%</th>\n",
       "      <th>50%</th>\n",
       "      <th>75%</th>\n",
       "      <th>max</th>\n",
       "    </tr>\n",
       "    <tr>\n",
       "      <th>loan_status</th>\n",
       "      <th></th>\n",
       "      <th></th>\n",
       "      <th></th>\n",
       "      <th></th>\n",
       "      <th></th>\n",
       "      <th></th>\n",
       "      <th></th>\n",
       "      <th></th>\n",
       "    </tr>\n",
       "  </thead>\n",
       "  <tbody>\n",
       "    <tr>\n",
       "      <th>0</th>\n",
       "      <td>17831.0</td>\n",
       "      <td>27.784981</td>\n",
       "      <td>6.337859</td>\n",
       "      <td>20.0</td>\n",
       "      <td>23.0</td>\n",
       "      <td>26.0</td>\n",
       "      <td>30.0</td>\n",
       "      <td>144.0</td>\n",
       "    </tr>\n",
       "    <tr>\n",
       "      <th>1</th>\n",
       "      <td>4975.0</td>\n",
       "      <td>27.500302</td>\n",
       "      <td>6.327888</td>\n",
       "      <td>20.0</td>\n",
       "      <td>23.0</td>\n",
       "      <td>26.0</td>\n",
       "      <td>30.0</td>\n",
       "      <td>70.0</td>\n",
       "    </tr>\n",
       "  </tbody>\n",
       "</table>\n",
       "</div>"
      ]
     },
     "execution_count": 15,
     "metadata": {},
     "output_type": "execute_result"
    }
   ],
   "execution_count": 15
  },
  {
   "metadata": {
    "ExecuteTime": {
     "end_time": "2025-05-12T12:38:40.261295Z",
     "start_time": "2025-05-12T12:38:40.172492Z"
    }
   },
   "cell_type": "code",
   "source": "sns.boxplot(data=data_train, x=\"loan_status\", y=\"person_age\")",
   "id": "2c4e7748536d4f65",
   "outputs": [
    {
     "data": {
      "text/plain": [
       "<Axes: xlabel='loan_status', ylabel='person_age'>"
      ]
     },
     "execution_count": 16,
     "metadata": {},
     "output_type": "execute_result"
    },
    {
     "data": {
      "text/plain": [
       "<Figure size 640x480 with 1 Axes>"
      ],
      "image/png": "[encoded data removed]"
     },
     "metadata": {},
     "output_type": "display_data"
    }
   ],
   "execution_count": 16
  },
  {
   "metadata": {
    "ExecuteTime": {
     "end_time": "2025-05-12T12:38:40.634833Z",
     "start_time": "2025-05-12T12:38:40.299794Z"
    }
   },
   "cell_type": "code",
   "source": "sns.displot(data=data_train, x=\"person_age\", hue=\"loan_status\", kind=\"kde\")",
   "id": "5892662ad383fddb",
   "outputs": [
    {
     "data": {
      "text/plain": [
       "<seaborn.axisgrid.FacetGrid at 0x13befdcd0>"
      ]
     },
     "execution_count": 17,
     "metadata": {},
     "output_type": "execute_result"
    },
    {
     "data": {
      "text/plain": [
       "<Figure size 597.097x500 with 1 Axes>"
      ],
      "image/png": "[encoded data removed]"
     },
     "metadata": {},
     "output_type": "display_data"
    }
   ],
   "execution_count": 17
  },
  {
   "metadata": {
    "ExecuteTime": {
     "end_time": "2025-05-12T12:38:44.086120Z",
     "start_time": "2025-05-12T12:38:44.079008Z"
    }
   },
   "cell_type": "code",
   "source": [
    "# Calculate Q1 and Q3\n",
    "Q1_person_age = np.percentile(data_train[\"person_age\"], 25)\n",
    "Q3_person_age = np.percentile(data_train[\"person_age\"], 75)\n",
    "\n",
    "# Calculate IQR\n",
    "IQR_person_age = Q3_person_age - Q1_person_age\n",
    "\n",
    "# Calculate Threshold\n",
    "min_person_age = Q1_person_age - (1.5*IQR_person_age)\n",
    "max_person_age = Q3_person_age + (1.5*IQR_person_age)"
   ],
   "id": "a8a2530571941296",
   "outputs": [],
   "execution_count": 18
  },
  {
   "metadata": {
    "ExecuteTime": {
     "end_time": "2025-05-12T12:38:55.675490Z",
     "start_time": "2025-05-12T12:38:55.671698Z"
    }
   },
   "cell_type": "code",
   "source": "print(min_person_age, max_person_age)",
   "id": "ec4f7598eb9459dc",
   "outputs": [
    {
     "name": "stdout",
     "output_type": "stream",
     "text": [
      "12.5 40.5\n"
     ]
    }
   ],
   "execution_count": 19
  },
  {
   "metadata": {
    "ExecuteTime": {
     "end_time": "2025-05-12T12:42:52.903856Z",
     "start_time": "2025-05-12T12:42:52.899199Z"
    }
   },
   "cell_type": "code",
   "source": [
    "adj_min_person_age = 21\n",
    "adj_max_person_age = 55"
   ],
   "id": "2298e3016371aaa5",
   "outputs": [],
   "execution_count": 21
  },
  {
   "metadata": {
    "ExecuteTime": {
     "end_time": "2025-05-12T12:42:51.090910Z",
     "start_time": "2025-05-12T12:42:51.085159Z"
    }
   },
   "cell_type": "code",
   "source": "# Predictor person_emp_length",
   "id": "a8faf999e1473f60",
   "outputs": [
    {
     "data": {
      "text/plain": [
       "Index(['person_age', 'person_emp_length', 'cb_person_default_on_file',\n",
       "       'loan_status'],\n",
       "      dtype='object')"
      ]
     },
     "execution_count": 20,
     "metadata": {},
     "output_type": "execute_result"
    }
   ],
   "execution_count": 20
  },
  {
   "metadata": {
    "ExecuteTime": {
     "end_time": "2025-05-12T12:44:46.787528Z",
     "start_time": "2025-05-12T12:44:46.776869Z"
    }
   },
   "cell_type": "code",
   "source": "data_train[\"person_emp_length\"].describe()",
   "id": "d7dfcd7747e52a04",
   "outputs": [
    {
     "data": {
      "text/plain": [
       "count    22167.000000\n",
       "mean         4.796905\n",
       "std          4.120061\n",
       "min          0.000000\n",
       "25%          2.000000\n",
       "50%          4.000000\n",
       "75%          7.000000\n",
       "max        123.000000\n",
       "Name: person_emp_length, dtype: float64"
      ]
     },
     "execution_count": 24,
     "metadata": {},
     "output_type": "execute_result"
    }
   ],
   "execution_count": 24
  },
  {
   "metadata": {
    "ExecuteTime": {
     "end_time": "2025-05-12T12:45:18.309315Z",
     "start_time": "2025-05-12T12:45:18.296029Z"
    }
   },
   "cell_type": "code",
   "source": "data_train[\"person_emp_length\"].groupby(data_train[\"loan_status\"]).describe()",
   "id": "2a11146952547c56",
   "outputs": [
    {
     "data": {
      "text/plain": [
       "               count      mean       std  min  25%  50%  75%    max\n",
       "loan_status                                                        \n",
       "0            17388.0  4.978951  4.161727  0.0  2.0  4.0  7.0  123.0\n",
       "1             4779.0  4.134547  3.894015  0.0  1.0  3.0  6.0   34.0"
      ],
      "text/html": [
       "<div>\n",
       "<style scoped>\n",
       "    .dataframe tbody tr th:only-of-type {\n",
       "        vertical-align: middle;\n",
       "    }\n",
       "\n",
       "    .dataframe tbody tr th {\n",
       "        vertical-align: top;\n",
       "    }\n",
       "\n",
       "    .dataframe thead th {\n",
       "        text-align: right;\n",
       "    }\n",
       "</style>\n",
       "<table border=\"1\" class=\"dataframe\">\n",
       "  <thead>\n",
       "    <tr style=\"text-align: right;\">\n",
       "      <th></th>\n",
       "      <th>count</th>\n",
       "      <th>mean</th>\n",
       "      <th>std</th>\n",
       "      <th>min</th>\n",
       "      <th>25%</th>\n",
       "      <th>50%</th>\n",
       "      <th>75%</th>\n",
       "      <th>max</th>\n",
       "    </tr>\n",
       "    <tr>\n",
       "      <th>loan_status</th>\n",
       "      <th></th>\n",
       "      <th></th>\n",
       "      <th></th>\n",
       "      <th></th>\n",
       "      <th></th>\n",
       "      <th></th>\n",
       "      <th></th>\n",
       "      <th></th>\n",
       "    </tr>\n",
       "  </thead>\n",
       "  <tbody>\n",
       "    <tr>\n",
       "      <th>0</th>\n",
       "      <td>17388.0</td>\n",
       "      <td>4.978951</td>\n",
       "      <td>4.161727</td>\n",
       "      <td>0.0</td>\n",
       "      <td>2.0</td>\n",
       "      <td>4.0</td>\n",
       "      <td>7.0</td>\n",
       "      <td>123.0</td>\n",
       "    </tr>\n",
       "    <tr>\n",
       "      <th>1</th>\n",
       "      <td>4779.0</td>\n",
       "      <td>4.134547</td>\n",
       "      <td>3.894015</td>\n",
       "      <td>0.0</td>\n",
       "      <td>1.0</td>\n",
       "      <td>3.0</td>\n",
       "      <td>6.0</td>\n",
       "      <td>34.0</td>\n",
       "    </tr>\n",
       "  </tbody>\n",
       "</table>\n",
       "</div>"
      ]
     },
     "execution_count": 26,
     "metadata": {},
     "output_type": "execute_result"
    }
   ],
   "execution_count": 26
  },
  {
   "metadata": {
    "ExecuteTime": {
     "end_time": "2025-05-12T12:46:58.896526Z",
     "start_time": "2025-05-12T12:46:58.801247Z"
    }
   },
   "cell_type": "code",
   "source": "sns.boxplot(data=data_train, x=\"loan_status\", y=\"person_emp_length\")",
   "id": "666120d52ab35980",
   "outputs": [
    {
     "data": {
      "text/plain": [
       "<Axes: xlabel='loan_status', ylabel='person_emp_length'>"
      ]
     },
     "execution_count": 28,
     "metadata": {},
     "output_type": "execute_result"
    },
    {
     "data": {
      "text/plain": [
       "<Figure size 640x480 with 1 Axes>"
      ],
      "image/png": "[encoded data removed]"
     },
     "metadata": {},
     "output_type": "display_data"
    }
   ],
   "execution_count": 28
  },
  {
   "metadata": {
    "ExecuteTime": {
     "end_time": "2025-05-12T12:48:54.281817Z",
     "start_time": "2025-05-12T12:48:54.269352Z"
    }
   },
   "cell_type": "code",
   "source": [
    "# Check data Integrity\n",
    "underage_worker = (data_train[\"person_age\"] - data_train[\"person_emp_length\"]) < 18\n",
    "data_train[underage_worker]"
   ],
   "id": "6261f09535df13c3",
   "outputs": [
    {
     "data": {
      "text/plain": [
       "       person_age  person_emp_length cb_person_default_on_file  loan_status\n",
       "25029          27               11.0                         N            0\n",
       "179            24                8.0                         N            0\n",
       "11278          25                9.0                         N            0\n",
       "13547          22                6.0                         N            0\n",
       "17324          23                7.0                         N            1\n",
       "...           ...                ...                       ...          ...\n",
       "13675          26               10.0                         N            0\n",
       "14989          24                8.0                         N            0\n",
       "10023          23                7.0                         N            0\n",
       "1663           22                7.0                         N            0\n",
       "10456          22                6.0                         N            1\n",
       "\n",
       "[5475 rows x 4 columns]"
      ],
      "text/html": [
       "<div>\n",
       "<style scoped>\n",
       "    .dataframe tbody tr th:only-of-type {\n",
       "        vertical-align: middle;\n",
       "    }\n",
       "\n",
       "    .dataframe tbody tr th {\n",
       "        vertical-align: top;\n",
       "    }\n",
       "\n",
       "    .dataframe thead th {\n",
       "        text-align: right;\n",
       "    }\n",
       "</style>\n",
       "<table border=\"1\" class=\"dataframe\">\n",
       "  <thead>\n",
       "    <tr style=\"text-align: right;\">\n",
       "      <th></th>\n",
       "      <th>person_age</th>\n",
       "      <th>person_emp_length</th>\n",
       "      <th>cb_person_default_on_file</th>\n",
       "      <th>loan_status</th>\n",
       "    </tr>\n",
       "  </thead>\n",
       "  <tbody>\n",
       "    <tr>\n",
       "      <th>25029</th>\n",
       "      <td>27</td>\n",
       "      <td>11.0</td>\n",
       "      <td>N</td>\n",
       "      <td>0</td>\n",
       "    </tr>\n",
       "    <tr>\n",
       "      <th>179</th>\n",
       "      <td>24</td>\n",
       "      <td>8.0</td>\n",
       "      <td>N</td>\n",
       "      <td>0</td>\n",
       "    </tr>\n",
       "    <tr>\n",
       "      <th>11278</th>\n",
       "      <td>25</td>\n",
       "      <td>9.0</td>\n",
       "      <td>N</td>\n",
       "      <td>0</td>\n",
       "    </tr>\n",
       "    <tr>\n",
       "      <th>13547</th>\n",
       "      <td>22</td>\n",
       "      <td>6.0</td>\n",
       "      <td>N</td>\n",
       "      <td>0</td>\n",
       "    </tr>\n",
       "    <tr>\n",
       "      <th>17324</th>\n",
       "      <td>23</td>\n",
       "      <td>7.0</td>\n",
       "      <td>N</td>\n",
       "      <td>1</td>\n",
       "    </tr>\n",
       "    <tr>\n",
       "      <th>...</th>\n",
       "      <td>...</td>\n",
       "      <td>...</td>\n",
       "      <td>...</td>\n",
       "      <td>...</td>\n",
       "    </tr>\n",
       "    <tr>\n",
       "      <th>13675</th>\n",
       "      <td>26</td>\n",
       "      <td>10.0</td>\n",
       "      <td>N</td>\n",
       "      <td>0</td>\n",
       "    </tr>\n",
       "    <tr>\n",
       "      <th>14989</th>\n",
       "      <td>24</td>\n",
       "      <td>8.0</td>\n",
       "      <td>N</td>\n",
       "      <td>0</td>\n",
       "    </tr>\n",
       "    <tr>\n",
       "      <th>10023</th>\n",
       "      <td>23</td>\n",
       "      <td>7.0</td>\n",
       "      <td>N</td>\n",
       "      <td>0</td>\n",
       "    </tr>\n",
       "    <tr>\n",
       "      <th>1663</th>\n",
       "      <td>22</td>\n",
       "      <td>7.0</td>\n",
       "      <td>N</td>\n",
       "      <td>0</td>\n",
       "    </tr>\n",
       "    <tr>\n",
       "      <th>10456</th>\n",
       "      <td>22</td>\n",
       "      <td>6.0</td>\n",
       "      <td>N</td>\n",
       "      <td>1</td>\n",
       "    </tr>\n",
       "  </tbody>\n",
       "</table>\n",
       "<p>5475 rows × 4 columns</p>\n",
       "</div>"
      ]
     },
     "execution_count": 32,
     "metadata": {},
     "output_type": "execute_result"
    }
   ],
   "execution_count": 32
  },
  {
   "metadata": {},
   "cell_type": "code",
   "outputs": [],
   "execution_count": null,
   "source": "# Predictor cb_person_default_on_file",
   "id": "d3c0fc112e562906"
  },
  {
   "metadata": {
    "ExecuteTime": {
     "end_time": "2025-05-12T12:55:44.217680Z",
     "start_time": "2025-05-12T12:55:44.208099Z"
    }
   },
   "cell_type": "code",
   "source": "data_train[\"cb_person_default_on_file\"].value_counts(normalize=True)",
   "id": "14d77ef1430a12ff",
   "outputs": [
    {
     "data": {
      "text/plain": [
       "count     22806\n",
       "unique        2\n",
       "top           N\n",
       "freq      18758\n",
       "Name: cb_person_default_on_file, dtype: object"
      ]
     },
     "execution_count": 35,
     "metadata": {},
     "output_type": "execute_result"
    }
   ],
   "execution_count": 35
  },
  {
   "metadata": {
    "ExecuteTime": {
     "end_time": "2025-05-12T12:56:08.923201Z",
     "start_time": "2025-05-12T12:56:08.805241Z"
    }
   },
   "cell_type": "code",
   "source": [
    "sns.countplot(\n",
    "    data=data_train, x=\"cb_person_default_on_file\", hue=\"loan_status\"\n",
    ")"
   ],
   "id": "6031111b3ac5a47a",
   "outputs": [
    {
     "data": {
      "text/plain": [
       "<Axes: xlabel='cb_person_default_on_file', ylabel='count'>"
      ]
     },
     "execution_count": 36,
     "metadata": {},
     "output_type": "execute_result"
    },
    {
     "data": {
      "text/plain": [
       "<Figure size 640x480 with 1 Axes>"
      ],
      "image/png": "[encoded data removed]"
     },
     "metadata": {},
     "output_type": "display_data"
    }
   ],
   "execution_count": 36
  },
  {
   "metadata": {
    "ExecuteTime": {
     "end_time": "2025-05-12T12:57:52.833643Z",
     "start_time": "2025-05-12T12:57:52.821386Z"
    }
   },
   "cell_type": "code",
   "source": [
    "default_by_history = pd.crosstab(\n",
    "    data_train[\"cb_person_default_on_file\"],\n",
    "    data_train[\"loan_status\"],\n",
    "    margins=False,\n",
    ")\n",
    "default_by_history"
   ],
   "id": "cbfb4d252024fbfc",
   "outputs": [
    {
     "data": {
      "text/plain": [
       "loan_status                    0     1\n",
       "cb_person_default_on_file             \n",
       "N                          15302  3456\n",
       "Y                           2529  1519"
      ],
      "text/html": [
       "<div>\n",
       "<style scoped>\n",
       "    .dataframe tbody tr th:only-of-type {\n",
       "        vertical-align: middle;\n",
       "    }\n",
       "\n",
       "    .dataframe tbody tr th {\n",
       "        vertical-align: top;\n",
       "    }\n",
       "\n",
       "    .dataframe thead th {\n",
       "        text-align: right;\n",
       "    }\n",
       "</style>\n",
       "<table border=\"1\" class=\"dataframe\">\n",
       "  <thead>\n",
       "    <tr style=\"text-align: right;\">\n",
       "      <th>loan_status</th>\n",
       "      <th>0</th>\n",
       "      <th>1</th>\n",
       "    </tr>\n",
       "    <tr>\n",
       "      <th>cb_person_default_on_file</th>\n",
       "      <th></th>\n",
       "      <th></th>\n",
       "    </tr>\n",
       "  </thead>\n",
       "  <tbody>\n",
       "    <tr>\n",
       "      <th>N</th>\n",
       "      <td>15302</td>\n",
       "      <td>3456</td>\n",
       "    </tr>\n",
       "    <tr>\n",
       "      <th>Y</th>\n",
       "      <td>2529</td>\n",
       "      <td>1519</td>\n",
       "    </tr>\n",
       "  </tbody>\n",
       "</table>\n",
       "</div>"
      ]
     },
     "execution_count": 38,
     "metadata": {},
     "output_type": "execute_result"
    }
   ],
   "execution_count": 38
  },
  {
   "metadata": {
    "ExecuteTime": {
     "end_time": "2025-05-12T13:01:34.072923Z",
     "start_time": "2025-05-12T13:01:34.070414Z"
    }
   },
   "cell_type": "code",
   "source": [
    "# Odds of default from those who never default\n",
    "odds_never_default = default_by_history[1][0]/default_by_history[0][0]\n",
    "\n",
    "# Odds of default from those who have been default\n",
    "odds_ever_default = default_by_history[1][1]/default_by_history[0][1]"
   ],
   "id": "44f6675450011f3a",
   "outputs": [
    {
     "name": "stderr",
     "output_type": "stream",
     "text": [
      "/var/folders/zk/brzgnbks3bb5n5z8_bd3rvrm0000gn/T/ipykernel_6147/4144257875.py:2: FutureWarning: Series.__getitem__ treating keys as positions is deprecated. In a future version, integer keys will always be treated as labels (consistent with DataFrame behavior). To access a value by position, use `ser.iloc[pos]`\n",
      "  odds_never_default = default_by_history[1][0]/default_by_history[0][0]\n",
      "/var/folders/zk/brzgnbks3bb5n5z8_bd3rvrm0000gn/T/ipykernel_6147/4144257875.py:5: FutureWarning: Series.__getitem__ treating keys as positions is deprecated. In a future version, integer keys will always be treated as labels (consistent with DataFrame behavior). To access a value by position, use `ser.iloc[pos]`\n",
      "  odds_ever_default = default_by_history[1][1]/default_by_history[0][1]\n"
     ]
    }
   ],
   "execution_count": 43
  },
  {
   "metadata": {
    "ExecuteTime": {
     "end_time": "2025-05-12T15:02:05.151010Z",
     "start_time": "2025-05-12T15:02:05.142993Z"
    }
   },
   "cell_type": "code",
   "source": [
    "import scipy.stats as stats\n",
    "from scipy.stats import chi2_contingency, alpha\n",
    "\n",
    "# Test whether default history is independent of default_loan_status\n",
    "stats.chi2_contingency(default_by_history)\n",
    "results = stats.chi2_contingency(default_by_history)\n",
    "\n",
    "stats = results[0]\n",
    "pval = results[1]\n",
    "\n",
    "print(f\"Chi stats : {stats}\")\n",
    "print(f\"p-value : {pval}\")\n",
    "\n",
    "alpha = 0.05\n",
    "\n",
    "if pval < alpha:\n",
    "    print(f\"Default and {predictors} is not independent with P-val={pval}\")\n",
    "else:\n",
    "    print(f\"Default and {predictors} is independent with P-val={pval}\")"
   ],
   "id": "1381aa9937a81d46",
   "outputs": [
    {
     "name": "stdout",
     "output_type": "stream",
     "text": [
      "Chi stats : 711.0769535492474\n",
      "p-value : 1.1667412941768867e-156\n",
      "Default and ['person_age', 'person_emp_length', 'cb_person_default_on_file', 'loan_status'] is not independent with P-val=1.1667412941768867e-156\n"
     ]
    }
   ],
   "execution_count": 50
  },
  {
   "metadata": {},
   "cell_type": "code",
   "outputs": [],
   "execution_count": null,
   "source": [
    "# Create a function of independence test\n",
    "def independence_test(data, predictor_label, alpha=0.05):\n",
    "    \"\"\"\n",
    "    Funtion to perform the independence test.\n",
    "\n",
    "    Parameters\n",
    "    ----------\n",
    "    data : array like\n",
    "      The name of dataset.\n",
    "\n",
    "    predictor_label : object\n",
    "      The label of predictor variable.\n",
    "\n",
    "    alpha : float in range[0,1], default = 0.05\n",
    "      Probability of Type I Error (reject H0 when H0 is true).\n",
    "\n",
    "    \"\"\"\n",
    "    # Build the contingency table\n",
    "    crosstab = pd.crosstab(data[predictor_label],\n",
    "                           data[\"loan_status\"],\n",
    "                           margins = False)\n",
    "\n",
    "    # Test whether churn is independent of the predictor\n",
    "    stats.chi2_contingency(crosstab)\n",
    "\n",
    "    # Result of independence test\n",
    "    result = stats.chi2_contingency(crosstab)\n",
    "\n",
    "    # Extract the test result\n",
    "    stat = result[0]\n",
    "    pval = result[1]\n",
    "\n",
    "    # Print the conclusion\n",
    "    if pval < alpha:\n",
    "        print(f\"Default and {predictor_label} is not independent with P-val={pval}.\")\n",
    "    else:\n",
    "        print(f\"Default and {predictor_label} is independent with P-val={pval}.\")"
   ],
   "id": "e7d57c33d546c831"
  },
  {
   "metadata": {
    "ExecuteTime": {
     "end_time": "2025-05-12T15:37:25.605066Z",
     "start_time": "2025-05-12T15:37:25.600230Z"
    }
   },
   "cell_type": "code",
   "source": [
    "# Binning\n",
    "\n",
    "def create_binning(data, predictor_label, num_of_bins):\n",
    "    data = data.copy()\n",
    "\n",
    "    data[predictor_label + \"_bin\"] = pd.qcut(data[predictor_label], q=num_of_bins)\n",
    "    return data"
   ],
   "id": "9403119e84ec5d7c",
   "outputs": [],
   "execution_count": 52
  },
  {
   "metadata": {
    "ExecuteTime": {
     "end_time": "2025-05-12T15:38:17.487562Z",
     "start_time": "2025-05-12T15:38:17.470998Z"
    }
   },
   "cell_type": "code",
   "source": [
    "data_train_binned = create_binning(data_train, \"person_age\", num_of_bins=4)\n",
    "data_train_binned"
   ],
   "id": "5ea86cbebf9eec9f",
   "outputs": [
    {
     "data": {
      "text/plain": [
       "       person_age  person_emp_length cb_person_default_on_file  loan_status  \\\n",
       "11491          26                1.0                         N            0   \n",
       "3890           23                3.0                         N            0   \n",
       "17344          24                1.0                         N            1   \n",
       "13023          24                1.0                         N            0   \n",
       "29565          42                4.0                         N            1   \n",
       "...           ...                ...                       ...          ...   \n",
       "22095          32                3.0                         N            0   \n",
       "18736          30                0.0                         N            0   \n",
       "1663           22                7.0                         N            0   \n",
       "18257          29                4.0                         Y            0   \n",
       "10456          22                6.0                         N            1   \n",
       "\n",
       "       person_age_bin  \n",
       "11491    (23.0, 26.0]  \n",
       "3890   (19.999, 23.0]  \n",
       "17344    (23.0, 26.0]  \n",
       "13023    (23.0, 26.0]  \n",
       "29565   (30.0, 144.0]  \n",
       "...               ...  \n",
       "22095   (30.0, 144.0]  \n",
       "18736    (26.0, 30.0]  \n",
       "1663   (19.999, 23.0]  \n",
       "18257    (26.0, 30.0]  \n",
       "10456  (19.999, 23.0]  \n",
       "\n",
       "[22806 rows x 5 columns]"
      ],
      "text/html": [
       "<div>\n",
       "<style scoped>\n",
       "    .dataframe tbody tr th:only-of-type {\n",
       "        vertical-align: middle;\n",
       "    }\n",
       "\n",
       "    .dataframe tbody tr th {\n",
       "        vertical-align: top;\n",
       "    }\n",
       "\n",
       "    .dataframe thead th {\n",
       "        text-align: right;\n",
       "    }\n",
       "</style>\n",
       "<table border=\"1\" class=\"dataframe\">\n",
       "  <thead>\n",
       "    <tr style=\"text-align: right;\">\n",
       "      <th></th>\n",
       "      <th>person_age</th>\n",
       "      <th>person_emp_length</th>\n",
       "      <th>cb_person_default_on_file</th>\n",
       "      <th>loan_status</th>\n",
       "      <th>person_age_bin</th>\n",
       "    </tr>\n",
       "  </thead>\n",
       "  <tbody>\n",
       "    <tr>\n",
       "      <th>11491</th>\n",
       "      <td>26</td>\n",
       "      <td>1.0</td>\n",
       "      <td>N</td>\n",
       "      <td>0</td>\n",
       "      <td>(23.0, 26.0]</td>\n",
       "    </tr>\n",
       "    <tr>\n",
       "      <th>3890</th>\n",
       "      <td>23</td>\n",
       "      <td>3.0</td>\n",
       "      <td>N</td>\n",
       "      <td>0</td>\n",
       "      <td>(19.999, 23.0]</td>\n",
       "    </tr>\n",
       "    <tr>\n",
       "      <th>17344</th>\n",
       "      <td>24</td>\n",
       "      <td>1.0</td>\n",
       "      <td>N</td>\n",
       "      <td>1</td>\n",
       "      <td>(23.0, 26.0]</td>\n",
       "    </tr>\n",
       "    <tr>\n",
       "      <th>13023</th>\n",
       "      <td>24</td>\n",
       "      <td>1.0</td>\n",
       "      <td>N</td>\n",
       "      <td>0</td>\n",
       "      <td>(23.0, 26.0]</td>\n",
       "    </tr>\n",
       "    <tr>\n",
       "      <th>29565</th>\n",
       "      <td>42</td>\n",
       "      <td>4.0</td>\n",
       "      <td>N</td>\n",
       "      <td>1</td>\n",
       "      <td>(30.0, 144.0]</td>\n",
       "    </tr>\n",
       "    <tr>\n",
       "      <th>...</th>\n",
       "      <td>...</td>\n",
       "      <td>...</td>\n",
       "      <td>...</td>\n",
       "      <td>...</td>\n",
       "      <td>...</td>\n",
       "    </tr>\n",
       "    <tr>\n",
       "      <th>22095</th>\n",
       "      <td>32</td>\n",
       "      <td>3.0</td>\n",
       "      <td>N</td>\n",
       "      <td>0</td>\n",
       "      <td>(30.0, 144.0]</td>\n",
       "    </tr>\n",
       "    <tr>\n",
       "      <th>18736</th>\n",
       "      <td>30</td>\n",
       "      <td>0.0</td>\n",
       "      <td>N</td>\n",
       "      <td>0</td>\n",
       "      <td>(26.0, 30.0]</td>\n",
       "    </tr>\n",
       "    <tr>\n",
       "      <th>1663</th>\n",
       "      <td>22</td>\n",
       "      <td>7.0</td>\n",
       "      <td>N</td>\n",
       "      <td>0</td>\n",
       "      <td>(19.999, 23.0]</td>\n",
       "    </tr>\n",
       "    <tr>\n",
       "      <th>18257</th>\n",
       "      <td>29</td>\n",
       "      <td>4.0</td>\n",
       "      <td>Y</td>\n",
       "      <td>0</td>\n",
       "      <td>(26.0, 30.0]</td>\n",
       "    </tr>\n",
       "    <tr>\n",
       "      <th>10456</th>\n",
       "      <td>22</td>\n",
       "      <td>6.0</td>\n",
       "      <td>N</td>\n",
       "      <td>1</td>\n",
       "      <td>(19.999, 23.0]</td>\n",
       "    </tr>\n",
       "  </tbody>\n",
       "</table>\n",
       "<p>22806 rows × 5 columns</p>\n",
       "</div>"
      ]
     },
     "execution_count": 55,
     "metadata": {},
     "output_type": "execute_result"
    }
   ],
   "execution_count": 55
  },
  {
   "metadata": {
    "ExecuteTime": {
     "end_time": "2025-05-12T15:38:34.618524Z",
     "start_time": "2025-05-12T15:38:34.610244Z"
    }
   },
   "cell_type": "code",
   "source": "data_train_binned[\"person_age_bin\"].value_counts()",
   "id": "b8b9603cdb261704",
   "outputs": [
    {
     "data": {
      "text/plain": [
       "person_age_bin\n",
       "(23.0, 26.0]      6368\n",
       "(19.999, 23.0]    6140\n",
       "(30.0, 144.0]     5416\n",
       "(26.0, 30.0]      4882\n",
       "Name: count, dtype: int64"
      ]
     },
     "execution_count": 56,
     "metadata": {},
     "output_type": "execute_result"
    }
   ],
   "execution_count": 56
  },
  {
   "metadata": {
    "ExecuteTime": {
     "end_time": "2025-05-12T15:37:35.918540Z",
     "start_time": "2025-05-12T15:37:35.905854Z"
    }
   },
   "cell_type": "code",
   "source": "",
   "id": "e957534f609f1e83",
   "outputs": [
    {
     "data": {
      "text/plain": [
       "       person_age  person_emp_length cb_person_default_on_file  loan_status  \\\n",
       "11491          26                1.0                         N            0   \n",
       "3890           23                3.0                         N            0   \n",
       "17344          24                1.0                         N            1   \n",
       "13023          24                1.0                         N            0   \n",
       "29565          42                4.0                         N            1   \n",
       "...           ...                ...                       ...          ...   \n",
       "22095          32                3.0                         N            0   \n",
       "18736          30                0.0                         N            0   \n",
       "1663           22                7.0                         N            0   \n",
       "18257          29                4.0                         Y            0   \n",
       "10456          22                6.0                         N            1   \n",
       "\n",
       "       person_age_bin  \n",
       "11491    (23.0, 26.0]  \n",
       "3890   (19.999, 23.0]  \n",
       "17344    (23.0, 26.0]  \n",
       "13023    (23.0, 26.0]  \n",
       "29565   (30.0, 144.0]  \n",
       "...               ...  \n",
       "22095   (30.0, 144.0]  \n",
       "18736    (26.0, 30.0]  \n",
       "1663   (19.999, 23.0]  \n",
       "18257    (26.0, 30.0]  \n",
       "10456  (19.999, 23.0]  \n",
       "\n",
       "[22806 rows x 5 columns]"
      ],
      "text/html": [
       "<div>\n",
       "<style scoped>\n",
       "    .dataframe tbody tr th:only-of-type {\n",
       "        vertical-align: middle;\n",
       "    }\n",
       "\n",
       "    .dataframe tbody tr th {\n",
       "        vertical-align: top;\n",
       "    }\n",
       "\n",
       "    .dataframe thead th {\n",
       "        text-align: right;\n",
       "    }\n",
       "</style>\n",
       "<table border=\"1\" class=\"dataframe\">\n",
       "  <thead>\n",
       "    <tr style=\"text-align: right;\">\n",
       "      <th></th>\n",
       "      <th>person_age</th>\n",
       "      <th>person_emp_length</th>\n",
       "      <th>cb_person_default_on_file</th>\n",
       "      <th>loan_status</th>\n",
       "      <th>person_age_bin</th>\n",
       "    </tr>\n",
       "  </thead>\n",
       "  <tbody>\n",
       "    <tr>\n",
       "      <th>11491</th>\n",
       "      <td>26</td>\n",
       "      <td>1.0</td>\n",
       "      <td>N</td>\n",
       "      <td>0</td>\n",
       "      <td>(23.0, 26.0]</td>\n",
       "    </tr>\n",
       "    <tr>\n",
       "      <th>3890</th>\n",
       "      <td>23</td>\n",
       "      <td>3.0</td>\n",
       "      <td>N</td>\n",
       "      <td>0</td>\n",
       "      <td>(19.999, 23.0]</td>\n",
       "    </tr>\n",
       "    <tr>\n",
       "      <th>17344</th>\n",
       "      <td>24</td>\n",
       "      <td>1.0</td>\n",
       "      <td>N</td>\n",
       "      <td>1</td>\n",
       "      <td>(23.0, 26.0]</td>\n",
       "    </tr>\n",
       "    <tr>\n",
       "      <th>13023</th>\n",
       "      <td>24</td>\n",
       "      <td>1.0</td>\n",
       "      <td>N</td>\n",
       "      <td>0</td>\n",
       "      <td>(23.0, 26.0]</td>\n",
       "    </tr>\n",
       "    <tr>\n",
       "      <th>29565</th>\n",
       "      <td>42</td>\n",
       "      <td>4.0</td>\n",
       "      <td>N</td>\n",
       "      <td>1</td>\n",
       "      <td>(30.0, 144.0]</td>\n",
       "    </tr>\n",
       "    <tr>\n",
       "      <th>...</th>\n",
       "      <td>...</td>\n",
       "      <td>...</td>\n",
       "      <td>...</td>\n",
       "      <td>...</td>\n",
       "      <td>...</td>\n",
       "    </tr>\n",
       "    <tr>\n",
       "      <th>22095</th>\n",
       "      <td>32</td>\n",
       "      <td>3.0</td>\n",
       "      <td>N</td>\n",
       "      <td>0</td>\n",
       "      <td>(30.0, 144.0]</td>\n",
       "    </tr>\n",
       "    <tr>\n",
       "      <th>18736</th>\n",
       "      <td>30</td>\n",
       "      <td>0.0</td>\n",
       "      <td>N</td>\n",
       "      <td>0</td>\n",
       "      <td>(26.0, 30.0]</td>\n",
       "    </tr>\n",
       "    <tr>\n",
       "      <th>1663</th>\n",
       "      <td>22</td>\n",
       "      <td>7.0</td>\n",
       "      <td>N</td>\n",
       "      <td>0</td>\n",
       "      <td>(19.999, 23.0]</td>\n",
       "    </tr>\n",
       "    <tr>\n",
       "      <th>18257</th>\n",
       "      <td>29</td>\n",
       "      <td>4.0</td>\n",
       "      <td>Y</td>\n",
       "      <td>0</td>\n",
       "      <td>(26.0, 30.0]</td>\n",
       "    </tr>\n",
       "    <tr>\n",
       "      <th>10456</th>\n",
       "      <td>22</td>\n",
       "      <td>6.0</td>\n",
       "      <td>N</td>\n",
       "      <td>1</td>\n",
       "      <td>(19.999, 23.0]</td>\n",
       "    </tr>\n",
       "  </tbody>\n",
       "</table>\n",
       "<p>22806 rows × 5 columns</p>\n",
       "</div>"
      ]
     },
     "execution_count": 54,
     "metadata": {},
     "output_type": "execute_result"
    }
   ],
   "execution_count": 54
  }
 ],
 "metadata": {
  "kernelspec": {
   "display_name": "Python 3",
   "language": "python",
   "name": "python3"
  },
  "language_info": {
   "codemirror_mode": {
    "name": "ipython",
    "version": 2
   },
   "file_extension": ".py",
   "mimetype": "text/x-python",
   "name": "python",
   "nbconvert_exporter": "python",
   "pygments_lexer": "ipython2",
   "version": "2.7.6"
  }
 },
 "nbformat": 4,
 "nbformat_minor": 5
}
