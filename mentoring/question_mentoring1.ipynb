{
 "cells": [
  {
   "cell_type": "markdown",
   "id": "a64eb659",
   "metadata": {
    "id": "a64eb659"
   },
   "source": [
    "# **Mentoring 1** - Credit Scoring and Analytics\n",
    "Sekolah Data - Pacmann"
   ]
  },
  {
   "cell_type": "code",
   "id": "805578da",
   "metadata": {
    "id": "805578da",
    "ExecuteTime": {
     "end_time": "2025-05-16T20:44:18.818854Z",
     "start_time": "2025-05-16T20:44:18.808259Z"
    }
   },
   "source": [
    "# Load data manipulation package\n",
    "import numpy as np\n",
    "import pandas as pd\n",
    "\n",
    "\n",
    "# Load data visualization package\n",
    "import matplotlib.pyplot as plt\n",
    "import seaborn as sns\n",
    "from platformdirs import user_data_dir\n",
    "from scipy.ndimage import percentile_filter\n",
    "\n",
    "from tqdm import tqdm"
   ],
   "outputs": [],
   "execution_count": 3
  },
  {
   "cell_type": "code",
   "id": "a87e1afc",
   "metadata": {
    "id": "a87e1afc",
    "ExecuteTime": {
     "end_time": "2025-05-16T20:44:18.837014Z",
     "start_time": "2025-05-16T20:44:18.833731Z"
    }
   },
   "source": [
    "PATH_CREDIT_RECORD = \"credit_record.csv\"\n",
    "PATH_APPLICATION_RECORD = \"application_record.csv\""
   ],
   "outputs": [],
   "execution_count": 4
  },
  {
   "cell_type": "markdown",
   "id": "0c6b6ce2",
   "metadata": {
    "id": "0c6b6ce2"
   },
   "source": [
    "---\n",
    "**Mentoring 1 to assess your understanding of these topics**:\n",
    "1. Data Preparation\n",
    "2. Data Exploration\n",
    "\n",
    "in scorecard development process."
   ]
  },
  {
   "cell_type": "markdown",
   "id": "2bf05048",
   "metadata": {
    "id": "2bf05048"
   },
   "source": [
    "## **Case**: Credit Card Performance\n",
    "---\n",
    "This is a fictive datasets from [Credit Card Approval Prediction](https://www.kaggle.com/datasets/rikdifos/credit-card-approval-prediction).\n",
    "\n",
    "We have a performance table:\n",
    "- `credit_record.csv` contains the credit performance of debtors.\n",
    "\n",
    "We don't have the target or response variable in this table.\n",
    "\n",
    "Therefore, we have to assign the response variable according to our definition of 'bad' credit performance.\n",
    "\n",
    "For simplicity, you can access the dataset for mentoring from this folder: [Folder Dataset](https://drive.google.com/drive/folders/12Ea7Ence5mfK0UL7DJ2CgFrev7Uhrj3t?usp=sharing)"
   ]
  },
  {
   "cell_type": "markdown",
   "id": "c0cfa1b3",
   "metadata": {
    "id": "c0cfa1b3"
   },
   "source": [
    "### **Data Preparation**:\n",
    "---\n",
    "Load the performance data from `credit_record.csv` file."
   ]
  },
  {
   "cell_type": "markdown",
   "id": "283ae82a",
   "metadata": {
    "id": "283ae82a"
   },
   "source": [
    "Variable explanation:\n",
    "- `ID` : The account's unique ID.\n",
    "- `MONTHS_BALANCE` : The month of the extracted data is the starting point, backwards.\n",
    "  - `MONTHS_BALANCE = 0` is the current month,\n",
    "  - `MONTHS_BALANCE = -1` is the previous month,\n",
    "  - and so on.\n",
    "- `STATUS` : The status of the account's balance.\n",
    "  - `0` : 1-29 days past due\n",
    "  - `1` : 30-59 days past due\n",
    "  - `2` : 60-89 days past due\n",
    "  - `3` : 90-119 days past due\n",
    "  - `4` : 120-149 days past due\n",
    "  - `5` : write-offs or more than 150 days past due\n",
    "  - `C` : paid off that month\n",
    "  - `X` : no loan for the month"
   ]
  },
  {
   "cell_type": "code",
   "id": "deea7fdf",
   "metadata": {
    "id": "deea7fdf",
    "outputId": "f6a586f3-f727-4633-da5d-94556a01895f",
    "ExecuteTime": {
     "end_time": "2025-05-16T20:44:19.000221Z",
     "start_time": "2025-05-16T20:44:18.855176Z"
    }
   },
   "source": [
    "# Import dataset from csv file\n",
    "performance_data = pd.read_csv(PATH_CREDIT_RECORD)\n",
    "\n",
    "# Table check\n",
    "performance_data.head()"
   ],
   "outputs": [
    {
     "data": {
      "text/plain": [
       "        ID  MONTHS_BALANCE STATUS\n",
       "0  5001711               0      X\n",
       "1  5001711              -1      0\n",
       "2  5001711              -2      0\n",
       "3  5001711              -3      0\n",
       "4  5001712               0      C"
      ],
      "text/html": [
       "<div>\n",
       "<style scoped>\n",
       "    .dataframe tbody tr th:only-of-type {\n",
       "        vertical-align: middle;\n",
       "    }\n",
       "\n",
       "    .dataframe tbody tr th {\n",
       "        vertical-align: top;\n",
       "    }\n",
       "\n",
       "    .dataframe thead th {\n",
       "        text-align: right;\n",
       "    }\n",
       "</style>\n",
       "<table border=\"1\" class=\"dataframe\">\n",
       "  <thead>\n",
       "    <tr style=\"text-align: right;\">\n",
       "      <th></th>\n",
       "      <th>ID</th>\n",
       "      <th>MONTHS_BALANCE</th>\n",
       "      <th>STATUS</th>\n",
       "    </tr>\n",
       "  </thead>\n",
       "  <tbody>\n",
       "    <tr>\n",
       "      <th>0</th>\n",
       "      <td>5001711</td>\n",
       "      <td>0</td>\n",
       "      <td>X</td>\n",
       "    </tr>\n",
       "    <tr>\n",
       "      <th>1</th>\n",
       "      <td>5001711</td>\n",
       "      <td>-1</td>\n",
       "      <td>0</td>\n",
       "    </tr>\n",
       "    <tr>\n",
       "      <th>2</th>\n",
       "      <td>5001711</td>\n",
       "      <td>-2</td>\n",
       "      <td>0</td>\n",
       "    </tr>\n",
       "    <tr>\n",
       "      <th>3</th>\n",
       "      <td>5001711</td>\n",
       "      <td>-3</td>\n",
       "      <td>0</td>\n",
       "    </tr>\n",
       "    <tr>\n",
       "      <th>4</th>\n",
       "      <td>5001712</td>\n",
       "      <td>0</td>\n",
       "      <td>C</td>\n",
       "    </tr>\n",
       "  </tbody>\n",
       "</table>\n",
       "</div>"
      ]
     },
     "execution_count": 5,
     "metadata": {},
     "output_type": "execute_result"
    }
   ],
   "execution_count": 5
  },
  {
   "cell_type": "code",
   "id": "e00cbc28",
   "metadata": {
    "id": "e00cbc28",
    "outputId": "35ddd92c-21b7-4cac-c49f-000ff81721d9",
    "ExecuteTime": {
     "end_time": "2025-05-16T20:44:19.046740Z",
     "start_time": "2025-05-16T20:44:19.043501Z"
    }
   },
   "source": [
    "# Check the data shape\n",
    "performance_data.shape"
   ],
   "outputs": [
    {
     "data": {
      "text/plain": [
       "(1048575, 3)"
      ]
     },
     "execution_count": 6,
     "metadata": {},
     "output_type": "execute_result"
    }
   ],
   "execution_count": 6
  },
  {
   "cell_type": "markdown",
   "id": "14233462",
   "metadata": {
    "id": "14233462"
   },
   "source": [
    "  - Performance data contains 3 variables from 1,048,575 records.\n",
    "  - Let's check how many unique IDs we have."
   ]
  },
  {
   "cell_type": "code",
   "id": "4c879481",
   "metadata": {
    "id": "4c879481",
    "outputId": "8fa4c809-ed7b-4751-80e9-ae749f7e6afa",
    "ExecuteTime": {
     "end_time": "2025-05-16T20:44:19.179182Z",
     "start_time": "2025-05-16T20:44:19.100542Z"
    }
   },
   "source": [
    "# Check the total of unique IDs\n",
    "len(set(performance_data['ID']))"
   ],
   "outputs": [
    {
     "data": {
      "text/plain": [
       "45985"
      ]
     },
     "execution_count": 7,
     "metadata": {},
     "output_type": "execute_result"
    }
   ],
   "execution_count": 7
  },
  {
   "cell_type": "code",
   "id": "3b7ee7e7",
   "metadata": {
    "id": "3b7ee7e7",
    "outputId": "55b1b87f-2d4d-49fd-8495-872de4b62c92",
    "ExecuteTime": {
     "end_time": "2025-05-16T20:44:19.264844Z",
     "start_time": "2025-05-16T20:44:19.246820Z"
    }
   },
   "source": [
    "# Check data randomly\n",
    "id_random = performance_data.sample(1, random_state=32)['ID']\n",
    "id_random"
   ],
   "outputs": [
    {
     "data": {
      "text/plain": [
       "317044    5029543\n",
       "Name: ID, dtype: int64"
      ]
     },
     "execution_count": 8,
     "metadata": {},
     "output_type": "execute_result"
    }
   ],
   "execution_count": 8
  },
  {
   "cell_type": "code",
   "id": "1eab0fbf",
   "metadata": {
    "id": "1eab0fbf",
    "outputId": "43558720-c76e-4ed8-df62-863cbdc8a73b",
    "ExecuteTime": {
     "end_time": "2025-05-16T20:44:19.336701Z",
     "start_time": "2025-05-16T20:44:19.320008Z"
    }
   },
   "source": [
    "# Check data with that random id\n",
    "condition = performance_data['ID'].isin(id_random)\n",
    "random_performance = performance_data[condition]\n",
    "random_performance"
   ],
   "outputs": [
    {
     "data": {
      "text/plain": [
       "             ID  MONTHS_BALANCE STATUS\n",
       "317035  5029543             -30      C\n",
       "317036  5029543             -31      C\n",
       "317037  5029543             -32      C\n",
       "317038  5029543             -33      C\n",
       "317039  5029543             -34      C\n",
       "317040  5029543             -35      C\n",
       "317041  5029543             -36      0\n",
       "317042  5029543             -37      0\n",
       "317043  5029543             -38      0\n",
       "317044  5029543             -39      0\n",
       "317045  5029543             -40      0\n",
       "317046  5029543             -41      0\n",
       "317047  5029543             -42      0\n",
       "317048  5029543             -43      0\n",
       "317049  5029543             -44      0\n",
       "317050  5029543             -45      0"
      ],
      "text/html": [
       "<div>\n",
       "<style scoped>\n",
       "    .dataframe tbody tr th:only-of-type {\n",
       "        vertical-align: middle;\n",
       "    }\n",
       "\n",
       "    .dataframe tbody tr th {\n",
       "        vertical-align: top;\n",
       "    }\n",
       "\n",
       "    .dataframe thead th {\n",
       "        text-align: right;\n",
       "    }\n",
       "</style>\n",
       "<table border=\"1\" class=\"dataframe\">\n",
       "  <thead>\n",
       "    <tr style=\"text-align: right;\">\n",
       "      <th></th>\n",
       "      <th>ID</th>\n",
       "      <th>MONTHS_BALANCE</th>\n",
       "      <th>STATUS</th>\n",
       "    </tr>\n",
       "  </thead>\n",
       "  <tbody>\n",
       "    <tr>\n",
       "      <th>317035</th>\n",
       "      <td>5029543</td>\n",
       "      <td>-30</td>\n",
       "      <td>C</td>\n",
       "    </tr>\n",
       "    <tr>\n",
       "      <th>317036</th>\n",
       "      <td>5029543</td>\n",
       "      <td>-31</td>\n",
       "      <td>C</td>\n",
       "    </tr>\n",
       "    <tr>\n",
       "      <th>317037</th>\n",
       "      <td>5029543</td>\n",
       "      <td>-32</td>\n",
       "      <td>C</td>\n",
       "    </tr>\n",
       "    <tr>\n",
       "      <th>317038</th>\n",
       "      <td>5029543</td>\n",
       "      <td>-33</td>\n",
       "      <td>C</td>\n",
       "    </tr>\n",
       "    <tr>\n",
       "      <th>317039</th>\n",
       "      <td>5029543</td>\n",
       "      <td>-34</td>\n",
       "      <td>C</td>\n",
       "    </tr>\n",
       "    <tr>\n",
       "      <th>317040</th>\n",
       "      <td>5029543</td>\n",
       "      <td>-35</td>\n",
       "      <td>C</td>\n",
       "    </tr>\n",
       "    <tr>\n",
       "      <th>317041</th>\n",
       "      <td>5029543</td>\n",
       "      <td>-36</td>\n",
       "      <td>0</td>\n",
       "    </tr>\n",
       "    <tr>\n",
       "      <th>317042</th>\n",
       "      <td>5029543</td>\n",
       "      <td>-37</td>\n",
       "      <td>0</td>\n",
       "    </tr>\n",
       "    <tr>\n",
       "      <th>317043</th>\n",
       "      <td>5029543</td>\n",
       "      <td>-38</td>\n",
       "      <td>0</td>\n",
       "    </tr>\n",
       "    <tr>\n",
       "      <th>317044</th>\n",
       "      <td>5029543</td>\n",
       "      <td>-39</td>\n",
       "      <td>0</td>\n",
       "    </tr>\n",
       "    <tr>\n",
       "      <th>317045</th>\n",
       "      <td>5029543</td>\n",
       "      <td>-40</td>\n",
       "      <td>0</td>\n",
       "    </tr>\n",
       "    <tr>\n",
       "      <th>317046</th>\n",
       "      <td>5029543</td>\n",
       "      <td>-41</td>\n",
       "      <td>0</td>\n",
       "    </tr>\n",
       "    <tr>\n",
       "      <th>317047</th>\n",
       "      <td>5029543</td>\n",
       "      <td>-42</td>\n",
       "      <td>0</td>\n",
       "    </tr>\n",
       "    <tr>\n",
       "      <th>317048</th>\n",
       "      <td>5029543</td>\n",
       "      <td>-43</td>\n",
       "      <td>0</td>\n",
       "    </tr>\n",
       "    <tr>\n",
       "      <th>317049</th>\n",
       "      <td>5029543</td>\n",
       "      <td>-44</td>\n",
       "      <td>0</td>\n",
       "    </tr>\n",
       "    <tr>\n",
       "      <th>317050</th>\n",
       "      <td>5029543</td>\n",
       "      <td>-45</td>\n",
       "      <td>0</td>\n",
       "    </tr>\n",
       "  </tbody>\n",
       "</table>\n",
       "</div>"
      ]
     },
     "execution_count": 9,
     "metadata": {},
     "output_type": "execute_result"
    }
   ],
   "execution_count": 9
  },
  {
   "cell_type": "code",
   "id": "c995995d",
   "metadata": {
    "id": "c995995d",
    "outputId": "1a3bd5db-cfb2-4c6b-a04a-428a4eb18130",
    "ExecuteTime": {
     "end_time": "2025-05-16T20:44:19.476798Z",
     "start_time": "2025-05-16T20:44:19.445170Z"
    }
   },
   "source": [
    "# Check data randomly\n",
    "id_random2 = performance_data.sample(1, random_state=432)['ID']\n",
    "id_random2"
   ],
   "outputs": [
    {
     "data": {
      "text/plain": [
       "103547    5009469\n",
       "Name: ID, dtype: int64"
      ]
     },
     "execution_count": 10,
     "metadata": {},
     "output_type": "execute_result"
    }
   ],
   "execution_count": 10
  },
  {
   "cell_type": "code",
   "id": "bded7fab",
   "metadata": {
    "id": "bded7fab",
    "outputId": "2ecfdb66-a43d-4e72-cd12-009fa880768b",
    "ExecuteTime": {
     "end_time": "2025-05-16T20:44:19.683369Z",
     "start_time": "2025-05-16T20:44:19.673315Z"
    }
   },
   "source": [
    "# Check data with that random id\n",
    "condition2 = performance_data['ID'].isin(id_random2)\n",
    "random_performance2 = performance_data[condition2]\n",
    "random_performance2"
   ],
   "outputs": [
    {
     "data": {
      "text/plain": [
       "             ID  MONTHS_BALANCE STATUS\n",
       "103547  5009469               0      0\n",
       "103548  5009469              -1      1\n",
       "103549  5009469              -2      0\n",
       "103550  5009469              -3      0\n",
       "103551  5009469              -4      0\n",
       "103552  5009469              -5      0\n",
       "103553  5009469              -6      X"
      ],
      "text/html": [
       "<div>\n",
       "<style scoped>\n",
       "    .dataframe tbody tr th:only-of-type {\n",
       "        vertical-align: middle;\n",
       "    }\n",
       "\n",
       "    .dataframe tbody tr th {\n",
       "        vertical-align: top;\n",
       "    }\n",
       "\n",
       "    .dataframe thead th {\n",
       "        text-align: right;\n",
       "    }\n",
       "</style>\n",
       "<table border=\"1\" class=\"dataframe\">\n",
       "  <thead>\n",
       "    <tr style=\"text-align: right;\">\n",
       "      <th></th>\n",
       "      <th>ID</th>\n",
       "      <th>MONTHS_BALANCE</th>\n",
       "      <th>STATUS</th>\n",
       "    </tr>\n",
       "  </thead>\n",
       "  <tbody>\n",
       "    <tr>\n",
       "      <th>103547</th>\n",
       "      <td>5009469</td>\n",
       "      <td>0</td>\n",
       "      <td>0</td>\n",
       "    </tr>\n",
       "    <tr>\n",
       "      <th>103548</th>\n",
       "      <td>5009469</td>\n",
       "      <td>-1</td>\n",
       "      <td>1</td>\n",
       "    </tr>\n",
       "    <tr>\n",
       "      <th>103549</th>\n",
       "      <td>5009469</td>\n",
       "      <td>-2</td>\n",
       "      <td>0</td>\n",
       "    </tr>\n",
       "    <tr>\n",
       "      <th>103550</th>\n",
       "      <td>5009469</td>\n",
       "      <td>-3</td>\n",
       "      <td>0</td>\n",
       "    </tr>\n",
       "    <tr>\n",
       "      <th>103551</th>\n",
       "      <td>5009469</td>\n",
       "      <td>-4</td>\n",
       "      <td>0</td>\n",
       "    </tr>\n",
       "    <tr>\n",
       "      <th>103552</th>\n",
       "      <td>5009469</td>\n",
       "      <td>-5</td>\n",
       "      <td>0</td>\n",
       "    </tr>\n",
       "    <tr>\n",
       "      <th>103553</th>\n",
       "      <td>5009469</td>\n",
       "      <td>-6</td>\n",
       "      <td>X</td>\n",
       "    </tr>\n",
       "  </tbody>\n",
       "</table>\n",
       "</div>"
      ]
     },
     "execution_count": 11,
     "metadata": {},
     "output_type": "execute_result"
    }
   ],
   "execution_count": 11
  },
  {
   "metadata": {},
   "cell_type": "markdown",
   "source": "### **Data Cleansing**:",
   "id": "9c7d8100e9094aba"
  },
  {
   "metadata": {
    "ExecuteTime": {
     "end_time": "2025-05-16T20:44:19.878908Z",
     "start_time": "2025-05-16T20:44:19.844111Z"
    }
   },
   "cell_type": "code",
   "source": [
    "# Check if status is valid\n",
    "performance_data[\"STATUS\"].value_counts()"
   ],
   "id": "59a9838a573bb39d",
   "outputs": [
    {
     "data": {
      "text/plain": [
       "STATUS\n",
       "C    442031\n",
       "0    383120\n",
       "X    209230\n",
       "1     11090\n",
       "5      1693\n",
       "2       868\n",
       "3       320\n",
       "4       223\n",
       "Name: count, dtype: int64"
      ]
     },
     "execution_count": 12,
     "metadata": {},
     "output_type": "execute_result"
    }
   ],
   "execution_count": 12
  },
  {
   "metadata": {
    "ExecuteTime": {
     "end_time": "2025-05-16T20:44:20.054349Z",
     "start_time": "2025-05-16T20:44:20.043673Z"
    }
   },
   "cell_type": "code",
   "source": "performance_data[\"MONTHS_BALANCE\"].value_counts()",
   "id": "c49b53c8b9f435e4",
   "outputs": [
    {
     "data": {
      "text/plain": [
       "MONTHS_BALANCE\n",
       "-1     34436\n",
       "-2     34209\n",
       " 0     33856\n",
       "-3     33854\n",
       "-4     33365\n",
       "       ...  \n",
       "-56     2109\n",
       "-57     1649\n",
       "-58     1255\n",
       "-59      820\n",
       "-60      415\n",
       "Name: count, Length: 61, dtype: int64"
      ]
     },
     "execution_count": 13,
     "metadata": {},
     "output_type": "execute_result"
    }
   ],
   "execution_count": 13
  },
  {
   "metadata": {
    "ExecuteTime": {
     "end_time": "2025-05-16T20:44:20.705442Z",
     "start_time": "2025-05-16T20:44:20.178399Z"
    }
   },
   "cell_type": "code",
   "source": [
    "only_x = performance_data.groupby(\"ID\")[\"STATUS\"].apply(lambda x: set(x) == {'X'})\n",
    "only_x_ids = only_x[only_x].index.tolist()\n",
    "\n",
    "performance_data = performance_data[~performance_data[\"ID\"].isin(only_x_ids)]"
   ],
   "id": "41eb6f91271a5ac7",
   "outputs": [],
   "execution_count": 14
  },
  {
   "metadata": {
    "ExecuteTime": {
     "end_time": "2025-05-16T20:44:20.821199Z",
     "start_time": "2025-05-16T20:44:20.803357Z"
    }
   },
   "cell_type": "code",
   "source": "first_month_users = performance_data.groupby(\"ID\")[\"MONTHS_BALANCE\"].max().sort_values(ascending=True)",
   "id": "5915fe7340893f44",
   "outputs": [],
   "execution_count": 15
  },
  {
   "metadata": {
    "ExecuteTime": {
     "end_time": "2025-05-16T20:44:20.891353Z",
     "start_time": "2025-05-16T20:44:20.887415Z"
    }
   },
   "cell_type": "code",
   "source": "first_month_users[first_month_users < 0].shape",
   "id": "8e88bdab74b8e3dd",
   "outputs": [
    {
     "data": {
      "text/plain": [
       "(11210,)"
      ]
     },
     "execution_count": 16,
     "metadata": {},
     "output_type": "execute_result"
    }
   ],
   "execution_count": 16
  },
  {
   "metadata": {
    "ExecuteTime": {
     "end_time": "2025-05-16T20:44:20.917523Z",
     "start_time": "2025-05-16T20:44:20.907153Z"
    }
   },
   "cell_type": "code",
   "source": "performance_data[\"ID\"].nunique()",
   "id": "10b72ae262e62b12",
   "outputs": [
    {
     "data": {
      "text/plain": [
       "41449"
      ]
     },
     "execution_count": 17,
     "metadata": {},
     "output_type": "execute_result"
    }
   ],
   "execution_count": 17
  },
  {
   "metadata": {
    "ExecuteTime": {
     "end_time": "2025-05-16T20:44:20.945416Z",
     "start_time": "2025-05-16T20:44:20.943393Z"
    }
   },
   "cell_type": "code",
   "source": "",
   "id": "f6512cc5086c1bcd",
   "outputs": [],
   "execution_count": null
  },
  {
   "metadata": {
    "ExecuteTime": {
     "end_time": "2025-05-16T20:44:20.967671Z",
     "start_time": "2025-05-16T20:44:20.961565Z"
    }
   },
   "cell_type": "code",
   "source": "performance_data[performance_data[\"ID\"] == 5035920]",
   "id": "12c120639a713daa",
   "outputs": [
    {
     "data": {
      "text/plain": [
       "             ID  MONTHS_BALANCE STATUS\n",
       "334514  5035920             -59      X\n",
       "334515  5035920             -60      0"
      ],
      "text/html": [
       "<div>\n",
       "<style scoped>\n",
       "    .dataframe tbody tr th:only-of-type {\n",
       "        vertical-align: middle;\n",
       "    }\n",
       "\n",
       "    .dataframe tbody tr th {\n",
       "        vertical-align: top;\n",
       "    }\n",
       "\n",
       "    .dataframe thead th {\n",
       "        text-align: right;\n",
       "    }\n",
       "</style>\n",
       "<table border=\"1\" class=\"dataframe\">\n",
       "  <thead>\n",
       "    <tr style=\"text-align: right;\">\n",
       "      <th></th>\n",
       "      <th>ID</th>\n",
       "      <th>MONTHS_BALANCE</th>\n",
       "      <th>STATUS</th>\n",
       "    </tr>\n",
       "  </thead>\n",
       "  <tbody>\n",
       "    <tr>\n",
       "      <th>334514</th>\n",
       "      <td>5035920</td>\n",
       "      <td>-59</td>\n",
       "      <td>X</td>\n",
       "    </tr>\n",
       "    <tr>\n",
       "      <th>334515</th>\n",
       "      <td>5035920</td>\n",
       "      <td>-60</td>\n",
       "      <td>0</td>\n",
       "    </tr>\n",
       "  </tbody>\n",
       "</table>\n",
       "</div>"
      ]
     },
     "execution_count": 18,
     "metadata": {},
     "output_type": "execute_result"
    }
   ],
   "execution_count": 18
  },
  {
   "cell_type": "markdown",
   "id": "fe128bd3",
   "metadata": {
    "id": "fe128bd3"
   },
   "source": [
    "### **Question 1**:\n",
    "What is the bad rate for a “bad” definition of 60+ days past due (DPD)?\n",
    "\n",
    "---\n",
    "\n",
    "**Expected Answer**:\n",
    "```\n",
    "\n",
    "print(f\"The bad rate for a bad definition of 60+ DPD is about {bad_rate*100:.2f}%.\")\n",
    "```"
   ]
  },
  {
   "metadata": {
    "ExecuteTime": {
     "end_time": "2025-05-16T20:44:24.628959Z",
     "start_time": "2025-05-16T20:44:24.115121Z"
    }
   },
   "cell_type": "code",
   "source": [
    "# Get Bad-Rate User\n",
    "# Formula to calculate bad-rate : (bad_user_ids/all_user_ids)\n",
    "def has_60_plus_pass_due(x):\n",
    "    statuses = {\"2\", \"3\", \"4\", \"5\"}\n",
    "    x = set(x)\n",
    "    return len(statuses.intersection(x)) > 0\n",
    "\n",
    "bad_rate_users = performance_data.groupby(\"ID\")[\"STATUS\"].apply(lambda x: has_60_plus_pass_due(x.values))\n",
    "bad_rate_users = bad_rate_users[bad_rate_users].index.tolist()\n",
    "all_users = performance_data[\"ID\"].nunique()\n",
    "\n",
    "bad_rate = len(bad_rate_users) / all_users\n",
    "print(f\"The bad rate for a bad definition of 60+ DPD is about {bad_rate*100:.2f}%.\")"
   ],
   "id": "1c84c2f2a9020039",
   "outputs": [
    {
     "name": "stdout",
     "output_type": "stream",
     "text": [
      "The bad rate for a bad definition of 60+ DPD is about 1.61%.\n"
     ]
    }
   ],
   "execution_count": 19
  },
  {
   "cell_type": "markdown",
   "id": "2a8726a8",
   "metadata": {
    "id": "2a8726a8"
   },
   "source": [
    "### **Question 2**:\n",
    "\n",
    "- How long do most people typically take to repay their loans?\n",
    "\n",
    "\n",
    "[Hint: Use window repayment lenght and check the distribution before deciding the aggregation method]\n",
    "\n",
    "**Expected Answer**:\n",
    "```\n",
    "\n",
    "print(f\"Most people do repay their loan for {abs(int(loan_repayment_lenght))} month.\")\n",
    "```"
   ]
  },
  {
   "metadata": {
    "ExecuteTime": {
     "end_time": "2025-05-16T21:01:07.637704Z",
     "start_time": "2025-05-16T21:01:07.604382Z"
    }
   },
   "cell_type": "code",
   "source": [
    "open_month = performance_data.groupby(\"ID\")[\"MONTHS_BALANCE\"].max()\n",
    "end_month = performance_data.groupby(\"ID\")[\"MONTHS_BALANCE\"].min()\n",
    "\n",
    "repayment_data = pd.merge(max_month, min_month, on=\"ID\")\n",
    "repayment_data.index.name = \"id\"\n",
    "repayment_data.columns = columns=[\"open_month\", \"end_month\"]\n",
    "repayment_data[\"window\"] = repayment_data[\"open_month\"] - repayment_data[\"end_month\"]\n",
    "repayment_data[\"window\"].describe()"
   ],
   "id": "f0bb2626828d83c2",
   "outputs": [
    {
     "data": {
      "text/plain": [
       "count    41449.000000\n",
       "mean        21.848609\n",
       "std         15.493808\n",
       "min          0.000000\n",
       "25%          9.000000\n",
       "50%         18.000000\n",
       "75%         33.000000\n",
       "max         60.000000\n",
       "Name: window, dtype: float64"
      ]
     },
     "execution_count": 43,
     "metadata": {},
     "output_type": "execute_result"
    }
   ],
   "execution_count": 43
  },
  {
   "metadata": {
    "ExecuteTime": {
     "end_time": "2025-05-16T21:02:16.854024Z",
     "start_time": "2025-05-16T21:02:16.848649Z"
    }
   },
   "cell_type": "code",
   "source": "print(f\"Most people do repay their loan for 21.8 month.\")",
   "id": "21ffce84990deb92",
   "outputs": [
    {
     "name": "stdout",
     "output_type": "stream",
     "text": [
      "Most people do repay their loan for 21.8 month.\n"
     ]
    }
   ],
   "execution_count": 45
  },
  {
   "cell_type": "markdown",
   "id": "6a05accf",
   "metadata": {
    "id": "6a05accf"
   },
   "source": [
    "### **Question 3**:\n",
    "What is the bad rate for a “bad” definition of 90+ days past due (DPD)?\n",
    "\n",
    "---\n",
    "\n",
    "**Expected Answer**:\n",
    "\n",
    "```\n",
    "print(f\"The bad rate for a bad definition of 90+ DPD is about {bad_rate_90*100:.2f}%.\")\n",
    "```"
   ]
  },
  {
   "metadata": {
    "ExecuteTime": {
     "end_time": "2025-05-16T21:02:59.908477Z",
     "start_time": "2025-05-16T21:02:59.468824Z"
    }
   },
   "cell_type": "code",
   "source": [
    "# Get Bad-Rate User\n",
    "# Formula to calculate bad-rate : (bad_user_ids/all_user_ids)\n",
    "def has_60_plus_pass_due(x):\n",
    "    statuses = {\"3\", \"4\", \"5\"}\n",
    "    x = set(x)\n",
    "    return len(statuses.intersection(x)) > 0\n",
    "\n",
    "bad_rate_users = performance_data.groupby(\"ID\")[\"STATUS\"].apply(lambda x: has_60_plus_pass_due(x.values))\n",
    "bad_rate_users = bad_rate_users[bad_rate_users].index.tolist()\n",
    "all_users = performance_data[\"ID\"].nunique()\n",
    "\n",
    "bad_rate = len(bad_rate_users) / all_users\n",
    "print(f\"The bad rate for a bad definition of 60+ DPD is about {bad_rate*100:.2f}%.\")"
   ],
   "id": "98a3af8be54af3b7",
   "outputs": [
    {
     "name": "stdout",
     "output_type": "stream",
     "text": [
      "The bad rate for a bad definition of 60+ DPD is about 0.80%.\n"
     ]
    }
   ],
   "execution_count": 46
  },
  {
   "cell_type": "markdown",
   "id": "37d9a6e6",
   "metadata": {
    "id": "37d9a6e6"
   },
   "source": [
    "### **Question 4**:\n",
    "Assume that the bad loan as an account whose loan status is writte-off (WO).\n",
    "- Plot Cohort Table for Bad Rate\n",
    "- Plot the most recent bad rate from each cohort (open month).\n",
    "- Also define the performance window based on the bad rate cohort\n",
    "---"
   ]
  },
  {
   "metadata": {
    "ExecuteTime": {
     "end_time": "2025-05-15T18:11:15.017196Z",
     "start_time": "2025-05-15T18:11:14.979612Z"
    }
   },
   "cell_type": "code",
   "source": [
    "performance_pivot2 = performance_pivot.copy()\n",
    "performance_pivot2 = performance_pivot2[[\"id\", \"open_month\", \"end_month\", \"window\"]]\n",
    "\n",
    "performance_pivot2\n"
   ],
   "id": "aaff78db6b3035d9",
   "outputs": [
    {
     "data": {
      "text/plain": [
       "MONTHS_BALANCE       id  open_month  end_month  window\n",
       "0               5001711          -3          0       3\n",
       "1               5001712         -18          0      18\n",
       "2               5001713         -21          0      21\n",
       "3               5001714         -14          0      14\n",
       "4               5001715         -59          0      59\n",
       "...                 ...         ...        ...     ...\n",
       "45980           5150482         -28        -11      17\n",
       "45981           5150483         -17          0      17\n",
       "45982           5150484         -12          0      12\n",
       "45983           5150485          -1          0       1\n",
       "45984           5150487         -29          0      29\n",
       "\n",
       "[45985 rows x 4 columns]"
      ],
      "text/html": [
       "<div>\n",
       "<style scoped>\n",
       "    .dataframe tbody tr th:only-of-type {\n",
       "        vertical-align: middle;\n",
       "    }\n",
       "\n",
       "    .dataframe tbody tr th {\n",
       "        vertical-align: top;\n",
       "    }\n",
       "\n",
       "    .dataframe thead th {\n",
       "        text-align: right;\n",
       "    }\n",
       "</style>\n",
       "<table border=\"1\" class=\"dataframe\">\n",
       "  <thead>\n",
       "    <tr style=\"text-align: right;\">\n",
       "      <th>MONTHS_BALANCE</th>\n",
       "      <th>id</th>\n",
       "      <th>open_month</th>\n",
       "      <th>end_month</th>\n",
       "      <th>window</th>\n",
       "    </tr>\n",
       "  </thead>\n",
       "  <tbody>\n",
       "    <tr>\n",
       "      <th>0</th>\n",
       "      <td>5001711</td>\n",
       "      <td>-3</td>\n",
       "      <td>0</td>\n",
       "      <td>3</td>\n",
       "    </tr>\n",
       "    <tr>\n",
       "      <th>1</th>\n",
       "      <td>5001712</td>\n",
       "      <td>-18</td>\n",
       "      <td>0</td>\n",
       "      <td>18</td>\n",
       "    </tr>\n",
       "    <tr>\n",
       "      <th>2</th>\n",
       "      <td>5001713</td>\n",
       "      <td>-21</td>\n",
       "      <td>0</td>\n",
       "      <td>21</td>\n",
       "    </tr>\n",
       "    <tr>\n",
       "      <th>3</th>\n",
       "      <td>5001714</td>\n",
       "      <td>-14</td>\n",
       "      <td>0</td>\n",
       "      <td>14</td>\n",
       "    </tr>\n",
       "    <tr>\n",
       "      <th>4</th>\n",
       "      <td>5001715</td>\n",
       "      <td>-59</td>\n",
       "      <td>0</td>\n",
       "      <td>59</td>\n",
       "    </tr>\n",
       "    <tr>\n",
       "      <th>...</th>\n",
       "      <td>...</td>\n",
       "      <td>...</td>\n",
       "      <td>...</td>\n",
       "      <td>...</td>\n",
       "    </tr>\n",
       "    <tr>\n",
       "      <th>45980</th>\n",
       "      <td>5150482</td>\n",
       "      <td>-28</td>\n",
       "      <td>-11</td>\n",
       "      <td>17</td>\n",
       "    </tr>\n",
       "    <tr>\n",
       "      <th>45981</th>\n",
       "      <td>5150483</td>\n",
       "      <td>-17</td>\n",
       "      <td>0</td>\n",
       "      <td>17</td>\n",
       "    </tr>\n",
       "    <tr>\n",
       "      <th>45982</th>\n",
       "      <td>5150484</td>\n",
       "      <td>-12</td>\n",
       "      <td>0</td>\n",
       "      <td>12</td>\n",
       "    </tr>\n",
       "    <tr>\n",
       "      <th>45983</th>\n",
       "      <td>5150485</td>\n",
       "      <td>-1</td>\n",
       "      <td>0</td>\n",
       "      <td>1</td>\n",
       "    </tr>\n",
       "    <tr>\n",
       "      <th>45984</th>\n",
       "      <td>5150487</td>\n",
       "      <td>-29</td>\n",
       "      <td>0</td>\n",
       "      <td>29</td>\n",
       "    </tr>\n",
       "  </tbody>\n",
       "</table>\n",
       "<p>45985 rows × 4 columns</p>\n",
       "</div>"
      ]
     },
     "execution_count": 246,
     "metadata": {},
     "output_type": "execute_result"
    }
   ],
   "execution_count": 246
  },
  {
   "cell_type": "markdown",
   "id": "a7c0b0db",
   "metadata": {
    "id": "a7c0b0db"
   },
   "source": [
    "### **Question 5**:\n",
    "---"
   ]
  },
  {
   "cell_type": "markdown",
   "id": "996e619f",
   "metadata": {
    "id": "996e619f"
   },
   "source": [
    "- Create a plot to compare cumulative bad rate between Accounts opened in 24, 36, 48, and 60 months ago\n",
    "- Analyze the cumulative bad rate and provide insights that related to the sample window\n",
    "- Based on the maturity curves you've created, if the sample window is four years ago (`open_month = -48`), what would the performance window be?\n",
    "- Can we choose `open_month = -60` as the sample window? Why?"
   ]
  },
  {
   "cell_type": "markdown",
   "id": "aa63ab3e",
   "metadata": {
    "id": "aa63ab3e"
   },
   "source": [
    "### **Question 6**:\n",
    "---"
   ]
  },
  {
   "cell_type": "markdown",
   "id": "4fe67af7",
   "metadata": {
    "id": "4fe67af7"
   },
   "source": [
    "- Create plots and compare the most recent bad rate using different  bad definition status:\n",
    "    - `2` : 60-89 days past due\n",
    "    - `3` : 90-119 days past due\n",
    "    - `4` : 120-149 days past due\n",
    "    - `5` : write-offs or more than 150 days past due\n",
    "\n",
    "- Provide analysis of the most recent bad rate each of the status (Diagonal Cohort/The Most recent bad rate), compare each most recent bad rate according to all bad definition status\n",
    "\n",
    "- Provide analysis, conclusion, and recommendation to sample window & sample window **using single cohort** in every bad status definition with these different open month: `[-36, -35, -25, -24]`"
   ]
  },
  {
   "cell_type": "markdown",
   "id": "1d975606",
   "metadata": {
    "id": "1d975606"
   },
   "source": [
    "### **Question 7**:\n",
    "---"
   ]
  },
  {
   "cell_type": "markdown",
   "id": "c447125f",
   "metadata": {
    "id": "c447125f"
   },
   "source": [
    "- Read the `\"application_record.csv\"` from the dataset folder [Folder Dataset](https://drive.google.com/drive/folders/12Ea7Ence5mfK0UL7DJ2CgFrev7Uhrj3t?)\n",
    "- Create bad_table for each bad definition status, create bad status as response variable in each bad definition status, and merge data with application data.\n",
    "- Make it as a function `get_final_data(performance_data, application_data, bad_status_column, max_open=-36, min_open=-35)` with input open month default: `max_open = -36` and `min_open = -35` with output merged dataset\n",
    "- Compare proportion between bad(1) and not bad(0) using `value_counts(normalize=True)` between all bad definition status from merged dataset\n",
    "- Save all your data in csv format with these file name:\n",
    "    - `dpd_60_data.csv`\n",
    "    - `dpd_90_data.csv`\n",
    "    - `dpd_120_data.csv`\n",
    "    - `dpd_wo_data.csv`\n"
   ]
  },
  {
   "cell_type": "markdown",
   "id": "a76fe1f3",
   "metadata": {
    "id": "a76fe1f3"
   },
   "source": [
    "\n",
    "Function example:\n",
    "```\n",
    "def get_final_data(performance_data, application_data, bad_status_column, max_open=-36, min_open=-35):\n",
    "    \"\"\"\n",
    "    Function to get final data\n",
    "    \"\"\"\n",
    "\n",
    "    # YOUR CODE HERE\n",
    "    ...\n",
    "    ...\n",
    "\n",
    "\n",
    "    return data\n",
    "\n",
    "\n",
    "# Example of usage\n",
    "data = get_final_data(performance_data = performace,\n",
    "                      application_data,\n",
    "                      bad_status_column = \"60+DPD\",\n",
    "                      max_open = -36,\n",
    "                      min_open = -35)\n",
    "\n",
    "\n",
    "```"
   ]
  },
  {
   "cell_type": "markdown",
   "id": "b123fefc",
   "metadata": {
    "id": "b123fefc"
   },
   "source": [
    "Expected output:\n",
    "- Cleaned application data from any ID duplicates\n",
    "- 4 merged data given format and name above\n",
    "- Cleaned from missing values\n",
    "- Columns: `ID, CODE_GENDER, FLAG_OWN_CAR, FLAG_OWN_REALTY, CNT_CHILDREN, AMT_INCOME_TOTAL, NAME_INCOME_TYPE, NAME_EDUCATION_TYPE,  NAME_FAMILY_STATUS,\tNAME_HOUSING_TYPE, DAYS_BIRTH, DAYS_EMPLOYED, FLAG_MOBIL, FLAG_WORK_PHONE, FLAG_PHONE, FLAG_EMAIL, OCCUPATION_TYPE, CNT_FAM_MEMBERS, open_month, BAD.`"
   ]
  }
 ],
 "metadata": {
  "kernelspec": {
   "display_name": "newenv",
   "language": "python",
   "name": "python3"
  },
  "language_info": {
   "codemirror_mode": {
    "name": "ipython",
    "version": 3
   },
   "file_extension": ".py",
   "mimetype": "text/x-python",
   "name": "python",
   "nbconvert_exporter": "python",
   "pygments_lexer": "ipython3",
   "version": "3.11.11"
  },
  "colab": {
   "provenance": []
  }
 },
 "nbformat": 4,
 "nbformat_minor": 5
}
